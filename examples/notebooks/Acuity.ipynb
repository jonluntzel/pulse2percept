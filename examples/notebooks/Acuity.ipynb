{
 "cells": [
  {
   "cell_type": "code",
   "execution_count": 27,
   "metadata": {},
   "outputs": [],
   "source": [
    "import numpy as np\n",
    "%matplotlib inline\n",
    "import matplotlib.pyplot as plt\n",
    "\n",
    "from skimage import io\n",
    "from skimage.transform import resize\n",
    "from skimage.transform import rotate\n",
    "import skimage.transform as sit\n",
    "from sklearn.discriminant_analysis import LinearDiscriminantAnalysis\n",
    "import random"
   ]
  },
  {
   "cell_type": "code",
   "execution_count": 28,
   "metadata": {},
   "outputs": [],
   "source": [
    "img_original = io.imread(\"Landolt5.png\")"
   ]
  },
  {
   "cell_type": "code",
   "execution_count": 29,
   "metadata": {},
   "outputs": [],
   "source": [
    "def compressor(img, a, b, c, d):\n",
    "    im2 = img.copy()\n",
    "    im2slice = im2[a:b, c:d]\n",
    "\n",
    "    im2slice = im2slice.compress([not(i % 2)\n",
    "                                  for i in range(len(im2slice))], axis=0)\n",
    "    im2slice = im2slice.compress([not(i % 2)\n",
    "                                  for i in range(len(im2slice[0]))], axis=1)\n",
    "\n",
    "    im2[a:b, c:d] = 255\n",
    "\n",
    "    width = (b - a) // 2\n",
    "    height = (d - c) // 2\n",
    "    row_midpoint = (a + b) // 2\n",
    "    col_midpoint = (c + d) // 2\n",
    "\n",
    "    im2[row_midpoint - width // 2:row_midpoint + width // 2,\n",
    "        col_midpoint - height // 2:col_midpoint + height // 2] = im2slice\n",
    "\n",
    "    return im2"
   ]
  },
  {
   "cell_type": "code",
   "execution_count": 30,
   "metadata": {},
   "outputs": [],
   "source": [
    "def groupswitch(imgs, r):\n",
    "    copy = imgs #use this to see images.reshape(44, 800, 800,3)\n",
    "    \n",
    "    w, h = 800, 800\n",
    "    for i in copy:\n",
    "        for j in range(0, 800*800*3, 3):\n",
    "            c = random.random()\n",
    "            if (c <= r):\n",
    "                for k in range(3):\n",
    "                    if i[j+k] == 1.0:\n",
    "                        i[j+k] = 0\n",
    "                    else:\n",
    "                        i[j+k] = 255\n",
    "    return copy"
   ]
  },
  {
   "cell_type": "code",
   "execution_count": null,
   "metadata": {},
   "outputs": [],
   "source": [
    "def unflatten()"
   ]
  },
  {
   "cell_type": "code",
   "execution_count": 17,
   "metadata": {},
   "outputs": [
    {
     "name": "stdout",
     "output_type": "stream",
     "text": [
      "wa    efaefawfeawfw\n"
     ]
    }
   ],
   "source": [
    "print(\"wa    efaefawfeawfw\")"
   ]
  },
  {
   "cell_type": "code",
   "execution_count": 31,
   "metadata": {},
   "outputs": [
    {
     "name": "stderr",
     "output_type": "stream",
     "text": [
      "Clipping input data to the valid range for imshow with RGB data ([0..1] for floats or [0..255] for integers).\n"
     ]
    },
    {
     "name": "stdout",
     "output_type": "stream",
     "text": [
      "U2:  (1920000,) D2:  (1920000,) R2:  (1920000,) L2:  (1920000,)\n"
     ]
    },
    {
     "name": "stderr",
     "output_type": "stream",
     "text": [
      "Clipping input data to the valid range for imshow with RGB data ([0..1] for floats or [0..255] for integers).\n"
     ]
    },
    {
     "name": "stdout",
     "output_type": "stream",
     "text": [
      "U_C2:  (1920000,) D_C2:  (1920000,) R_C2:  (1920000,) L_C2:  (1920000,)\n",
      "Uc2:  (1920000,) Dc2:  (1920000,) Rc2:  (1920000,) Lc2:  (1920000,)\n",
      "U_L2:  (1920000,) U_R2:  (1920000,) D_L2:  (1920000,) D_R2:  (1920000,)\n",
      "U_L_C2:  (1920000,) U_R_C2:  (1920000,) D_L_C2:  (1920000,) D_R_C2:  (1920000,)\n"
     ]
    },
    {
     "name": "stderr",
     "output_type": "stream",
     "text": [
      "Clipping input data to the valid range for imshow with RGB data ([0..1] for floats or [0..255] for integers).\n"
     ]
    },
    {
     "name": "stdout",
     "output_type": "stream",
     "text": [
      "ULc2:  (1920000,) URc2:  (1920000,) DLc2:  (1920000,) DRc2:  (1920000,)\n"
     ]
    },
    {
     "name": "stderr",
     "output_type": "stream",
     "text": [
      "Clipping input data to the valid range for imshow with RGB data ([0..1] for floats or [0..255] for integers).\n"
     ]
    },
    {
     "name": "stdout",
     "output_type": "stream",
     "text": [
      "U2:  (1920000,) D2:  (1920000,) R2:  (1920000,) L2:  (1920000,)\n"
     ]
    },
    {
     "name": "stderr",
     "output_type": "stream",
     "text": [
      "Clipping input data to the valid range for imshow with RGB data ([0..1] for floats or [0..255] for integers).\n"
     ]
    },
    {
     "name": "stdout",
     "output_type": "stream",
     "text": [
      "U_C2:  (1920000,) D_C2:  (1920000,) R_C2:  (1920000,) L_C2:  (1920000,)\n",
      "Uc2:  (1920000,) Dc2:  (1920000,) Rc2:  (1920000,) Lc2:  (1920000,)\n",
      "U_L2:  (1920000,) U_R2:  (1920000,) D_L2:  (1920000,) D_R2:  (1920000,)\n",
      "U_L_C2:  (1920000,) U_R_C2:  (1920000,) D_L_C2:  (1920000,) D_R_C2:  (1920000,)\n"
     ]
    },
    {
     "name": "stderr",
     "output_type": "stream",
     "text": [
      "Clipping input data to the valid range for imshow with RGB data ([0..1] for floats or [0..255] for integers).\n"
     ]
    },
    {
     "name": "stdout",
     "output_type": "stream",
     "text": [
      "ULc2:  (1920000,) URc2:  (1920000,) DLc2:  (1920000,) DRc2:  (1920000,)\n"
     ]
    },
    {
     "name": "stderr",
     "output_type": "stream",
     "text": [
      "Clipping input data to the valid range for imshow with RGB data ([0..1] for floats or [0..255] for integers).\n"
     ]
    },
    {
     "name": "stdout",
     "output_type": "stream",
     "text": [
      "U2:  (1920000,) D2:  (1920000,) R2:  (1920000,) L2:  (1920000,)\n"
     ]
    },
    {
     "name": "stderr",
     "output_type": "stream",
     "text": [
      "Clipping input data to the valid range for imshow with RGB data ([0..1] for floats or [0..255] for integers).\n"
     ]
    },
    {
     "name": "stdout",
     "output_type": "stream",
     "text": [
      "U_C2:  (1920000,) D_C2:  (1920000,) R_C2:  (1920000,) L_C2:  (1920000,)\n",
      "Uc2:  (1920000,) Dc2:  (1920000,) Rc2:  (1920000,) Lc2:  (1920000,)\n",
      "U_L2:  (1920000,) U_R2:  (1920000,) D_L2:  (1920000,) D_R2:  (1920000,)\n",
      "U_L_C2:  (1920000,) U_R_C2:  (1920000,) D_L_C2:  (1920000,) D_R_C2:  (1920000,)\n"
     ]
    },
    {
     "name": "stderr",
     "output_type": "stream",
     "text": [
      "Clipping input data to the valid range for imshow with RGB data ([0..1] for floats or [0..255] for integers).\n"
     ]
    },
    {
     "name": "stdout",
     "output_type": "stream",
     "text": [
      "ULc2:  (1920000,) URc2:  (1920000,) DLc2:  (1920000,) DRc2:  (1920000,)\n"
     ]
    },
    {
     "name": "stderr",
     "output_type": "stream",
     "text": [
      "Clipping input data to the valid range for imshow with RGB data ([0..1] for floats or [0..255] for integers).\n"
     ]
    },
    {
     "name": "stdout",
     "output_type": "stream",
     "text": [
      "U2:  (1920000,) D2:  (1920000,) R2:  (1920000,) L2:  (1920000,)\n"
     ]
    },
    {
     "name": "stderr",
     "output_type": "stream",
     "text": [
      "Clipping input data to the valid range for imshow with RGB data ([0..1] for floats or [0..255] for integers).\n"
     ]
    },
    {
     "name": "stdout",
     "output_type": "stream",
     "text": [
      "U_C2:  (1920000,) D_C2:  (1920000,) R_C2:  (1920000,) L_C2:  (1920000,)\n",
      "Uc2:  (1920000,) Dc2:  (1920000,) Rc2:  (1920000,) Lc2:  (1920000,)\n",
      "U_L2:  (1920000,) U_R2:  (1920000,) D_L2:  (1920000,) D_R2:  (1920000,)\n",
      "U_L_C2:  (1920000,) U_R_C2:  (1920000,) D_L_C2:  (1920000,) D_R_C2:  (1920000,)\n"
     ]
    },
    {
     "name": "stderr",
     "output_type": "stream",
     "text": [
      "Clipping input data to the valid range for imshow with RGB data ([0..1] for floats or [0..255] for integers).\n"
     ]
    },
    {
     "name": "stdout",
     "output_type": "stream",
     "text": [
      "ULc2:  (1920000,) URc2:  (1920000,) DLc2:  (1920000,) DRc2:  (1920000,)\n",
      "(396, 1920000)\n"
     ]
    },
    {
     "data": {
      "image/png": "[encoded data removed]",
      "text/plain": [
       "<Figure size 432x288 with 1 Axes>"
      ]
     },
     "metadata": {
      "needs_background": "light"
     },
     "output_type": "display_data"
    },
    {
     "data": {
      "image/png": "[encoded data removed]",
      "text/plain": [
       "<Figure size 432x288 with 1 Axes>"
      ]
     },
     "metadata": {
      "needs_background": "light"
     },
     "output_type": "display_data"
    },
    {
     "data": {
      "image/png": "[encoded data removed]",
      "text/plain": [
       "<Figure size 432x288 with 1 Axes>"
      ]
     },
     "metadata": {
      "needs_background": "light"
     },
     "output_type": "display_data"
    },
    {
     "data": {
      "image/png": "[encoded data removed]",
      "text/plain": [
       "<Figure size 432x288 with 1 Axes>"
      ]
     },
     "metadata": {
      "needs_background": "light"
     },
     "output_type": "display_data"
    },
    {
     "data": {
      "image/png": "[encoded data removed]",
      "text/plain": [
       "<Figure size 432x288 with 1 Axes>"
      ]
     },
     "metadata": {
      "needs_background": "light"
     },
     "output_type": "display_data"
    },
    {
     "data": {
      "image/png": "[encoded data removed]",
      "text/plain": [
       "<Figure size 432x288 with 1 Axes>"
      ]
     },
     "metadata": {
      "needs_background": "light"
     },
     "output_type": "display_data"
    },
    {
     "data": {
      "image/png": "[encoded data removed]",
      "text/plain": [
       "<Figure size 432x288 with 1 Axes>"
      ]
     },
     "metadata": {
      "needs_background": "light"
     },
     "output_type": "display_data"
    },
    {
     "data": {
      "image/png": "[encoded data removed]",
      "text/plain": [
       "<Figure size 432x288 with 1 Axes>"
      ]
     },
     "metadata": {
      "needs_background": "light"
     },
     "output_type": "display_data"
    },
    {
     "data": {
      "image/png": "[encoded data removed]",
      "text/plain": [
       "<Figure size 432x288 with 1 Axes>"
      ]
     },
     "metadata": {
      "needs_background": "light"
     },
     "output_type": "display_data"
    },
    {
     "data": {
      "image/png": "[encoded data removed]",
      "text/plain": [
       "<Figure size 432x288 with 1 Axes>"
      ]
     },
     "metadata": {
      "needs_background": "light"
     },
     "output_type": "display_data"
    },
    {
     "data": {
      "image/png": "[encoded data removed]",
      "text/plain": [
       "<Figure size 432x288 with 1 Axes>"
      ]
     },
     "metadata": {
      "needs_background": "light"
     },
     "output_type": "display_data"
    },
    {
     "data": {
      "image/png": "[encoded data removed]",
      "text/plain": [
       "<Figure size 432x288 with 1 Axes>"
      ]
     },
     "metadata": {
      "needs_background": "light"
     },
     "output_type": "display_data"
    }
   ],
   "source": [
    "# #first row of matrix at 0 degrees rotation\n",
    "# x = img_original[200:1000, 200:1000].flatten()\n",
    "# up = img_original[280:1080, 200:1000].flatten()\n",
    "# down = img_original[150:950, 200:1000].flatten()\n",
    "# right = img_original[200:1000, 150:950].flatten()\n",
    "# left = img_original[200:1000, 250:1050].flatten()\n",
    "\n",
    "# compressed = compressor(img_original, 2, 200, 1000, 200, 1000)[\n",
    "#     200:1000, 200:1000].flatten()\n",
    "\n",
    "# A = np.array([x, x, up, up, down, down, right, right,\n",
    "#               left, left, compressed, compressed])\n",
    "\n",
    "#next 3 rows of matrix\n",
    "\n",
    "theta = 90\n",
    "for i in range(0, int(360 / theta)):\n",
    "    new_img = rotate(img_original, theta * i)\n",
    "    rot = new_img[200:1000, 200:1000].flatten()\n",
    "    \n",
    "    U = new_img[250:1050, 200:1000].flatten()\n",
    "    D = new_img[150:950, 200:1000].flatten()\n",
    "    R = new_img[200:1000, 150:950].flatten()\n",
    "    L = new_img[200:1000, 250:1050].flatten()\n",
    "\n",
    "    u = new_img[225:1025, 200:1000].flatten()\n",
    "    d = new_img[175:975, 200:1000].flatten()\n",
    "    r = new_img[200:1000, 175:975].flatten()\n",
    "    l = new_img[200:1000, 225:1025].flatten()\n",
    "\n",
    "    a = 200 + random.randint(0, 50)\n",
    "    U2 = new_img[a:a+800, 200:1000].flatten()\n",
    "    a = 100 + random.randint(0, 50)\n",
    "    D2 = new_img[a:a+800, 200:1000].flatten()\n",
    "    a = 100 + random.randint(0, 50)\n",
    "    R2 = new_img[200:1000, a:a+800].flatten()\n",
    "    a = 200 + random.randint(0, 50)\n",
    "    L2 = new_img[200:1000, a:a+800].flatten()\n",
    "    print(\"U2: \", U2.shape, \"D2: \", D2.shape,\"R2: \", R2.shape,\"L2: \", L2.shape)\n",
    "    \n",
    "    C = compressor(new_img, 200, 1000, 200, 1000)\n",
    "    c = compressor(C, 200, 1000, 200, 1000)\n",
    "    \n",
    "#     C = C[200:1000, 200:1000].flatten()\n",
    "#     c = c[200:1000, 200:1000].flatten()\n",
    "\n",
    "#     if (i == 0):\n",
    "#         A = np.vstack([[rot], [U], [D], [R], [L], [u], [d], [r], [l], [C], [c]])\n",
    "#     else:\n",
    "#         A = np.vstack([A, [rot], [U], [D], [R], [L], [u], [d], [r], [l], [C], [c]])\n",
    "    up = np.vstack([c, img_original[0:100, :]]) #img_original (11/11/19)\n",
    "    down = np.vstack([c[0:100, :], c])\n",
    "    right = np.hstack([img_original[:, 0:100], c])#[c[:, 0:100], c[:, 0:700]])\n",
    "    plt.figure()\n",
    "    plt.imshow(right)\n",
    "    left = np.hstack([c, img_original[:, 0:100]])\n",
    "\n",
    "    upright = np.hstack([up[:, 0:100], up])\n",
    "    upleft = np.hstack([up, up[:, 0:100]])\n",
    "    #downright = np.hstack([c[0:800, 0:100], down[0:800, 0:700]])\n",
    "    downright = np.hstack([up[:, 0:100], down])\n",
    "    downleft = np.hstack([down, up[:, 0:100]])\n",
    "\n",
    "    # UC, uC, Uc, uc, ... D.L.R (16)\n",
    "    U_C = C[400:1200, 200:1000].flatten()\n",
    "    uC = C[300:1100, 200:1000].flatten()\n",
    "    Uc = up[500:1300, 200:1000].flatten()\n",
    "    uc = c[350:1150, 200:1000].flatten()\n",
    "\n",
    "    D_C = C[0:800, 200:1000].flatten()\n",
    "    dC = C[100:900, 200:1000].flatten()\n",
    "    Dc = down[0:800, 200:1000].flatten()\n",
    "    dc = c[50:850, 200:1000].flatten()\n",
    "\n",
    "    R_C = C[200:1000, 0:800].flatten()\n",
    "    rC = C[200:1000, 100:900].flatten()\n",
    "    Rc = right[200:1000, 0:800].flatten()\n",
    "    plt.figure()\n",
    "    plt.imshow(right[200:1000, 0:800])\n",
    "    # Rc = c[250:950, 0:700].flatten()\n",
    "    rc = c[200:1000, 50:850].flatten()\n",
    "\n",
    "    L_C = C[200:1000, 400:1200].flatten()\n",
    "    lC = C[200:1000, 300:1100].flatten()\n",
    "    Lc = left[200:1000, 500:1300].flatten()\n",
    "    lc = c[200:1000, 350:1150].flatten()\n",
    "    \n",
    "    #random variant\n",
    "    a = 200 + random.randint(0, 200)\n",
    "    U_C2 = C[a:a+800, 200:1000].flatten()\n",
    "    a = 200 + random.randint(0, 300)\n",
    "    Uc2 = up[a:a+800, 200:1000].flatten()\n",
    "\n",
    "    a = random.randint(0, 200)\n",
    "    D_C2 = C[a:a+800, 200:1000].flatten()\n",
    "    a = random.randint(0, 300)\n",
    "    Dc2 = down[a:a+800, 200:1000].flatten()\n",
    "\n",
    "    a = random.randint(0, 200)\n",
    "    R_C2 = C[200:1000, a:a+800].flatten()\n",
    "    a = random.randint(0, 300)\n",
    "    Rc2 = right[200:1000, a:a+800].flatten()\n",
    "\n",
    "    a = 200+random.randint(0, 200)\n",
    "    L_C2 = C[200:1000, a:800+a].flatten()\n",
    "    a = 200 + random.randint(0, 300)\n",
    "    Lc2 = left[200:1000, a:a+800].flatten()\n",
    "    \n",
    "    print(\"U_C2: \", U_C2.shape, \"D_C2: \", D_C2.shape, \"R_C2: \", R_C2.shape, \"L_C2: \", L_C2.shape)\n",
    "    print(\"Uc2: \", Uc2.shape, \"Dc2: \", Dc2.shape, \"Rc2: \", Rc2.shape, \"Lc2: \", Lc2.shape)\n",
    "\n",
    "    # UL, uL, ul, Ul, UR, uR, ur, Ur, DL, dL, dl, Dl, DR, dR, dr, Dr (16)\n",
    "    U_L = new_img[250:1050, 250:1050].flatten()\n",
    "    uL = new_img[225:1025, 250:1050].flatten()\n",
    "    ul = new_img[225:1025, 225:1025].flatten()\n",
    "    Ul = new_img[250:1050, 225:1025].flatten()\n",
    "\n",
    "    U_R = new_img[250:1050, 150:950].flatten()\n",
    "    uR = new_img[225:1025, 150:950].flatten()\n",
    "    ur = new_img[225:1025, 175:975].flatten()\n",
    "    Ur = new_img[250:1050, 175:975].flatten()\n",
    "\n",
    "    D_L = new_img[150:950, 250:1050].flatten()\n",
    "    dL = new_img[175:975, 250:1050].flatten()\n",
    "    dl = new_img[175:975, 225:1025].flatten()\n",
    "    Dl = new_img[150:950, 225:1025].flatten()\n",
    "\n",
    "    D_R = new_img[150:950, 150:950].flatten()\n",
    "    dR = new_img[175:975, 150:950].flatten()\n",
    "    dr = new_img[175:975, 175:975].flatten()\n",
    "    Dr = new_img[150:950, 175:975].flatten()\n",
    "\n",
    "    #random variant\n",
    "    a = 200+random.randint(0, 50)\n",
    "    b = 200+random.randint(0, 50)\n",
    "    U_L2 = new_img[a:a+800, b:b+800].flatten()\n",
    "\n",
    "    a = 200+random.randint(0, 50)\n",
    "    b = 200-random.randint(0, 50)\n",
    "    U_R2 = new_img[a:a+800, b:b+800].flatten()\n",
    "\n",
    "    a = 200-random.randint(0, 50)\n",
    "    b = 200+random.randint(0, 50)\n",
    "    D_L2 = new_img[a:a+800, b:b+800].flatten()\n",
    "    \n",
    "    a = 200-random.randint(0, 50)\n",
    "    b = 200-random.randint(0, 50)\n",
    "    D_R2 = new_img[a:a+800, b:b+800].flatten()\n",
    "    print(\"U_L2: \", U_L2.shape, \"U_R2: \", U_R2.shape, \"D_L2: \", D_L2.shape, \"D_R2: \", D_R2.shape)\n",
    "\n",
    "    # (UL uL ul Ul)(C, c), (UR, uR, ur, Ur)(C,c), ... (32)\n",
    "    # just named, none of the slices are accurate yet\n",
    "    U_L_C = C[400:1200, 400:1200].flatten()\n",
    "    uLC = C[300:1100, 400:1200].flatten()\n",
    "    ulC = C[300:1100, 300:1100].flatten()\n",
    "    UlC = C[400:1200, 300:1100].flatten()\n",
    "\n",
    "    U_R_C = C[400:1200, 0:800].flatten()\n",
    "    uRC = C[300:1100, 0:800].flatten()\n",
    "    urC = C[300:1100, 100:900].flatten()\n",
    "    UrC = C[400:1200, 100:900].flatten()\n",
    "\n",
    "    D_L_C = C[0:800, 400:1200].flatten()\n",
    "    dLC = C[100:900, 400:1200].flatten()\n",
    "    dlC = C[100:900, 300:1100].flatten()\n",
    "    DlC = C[0:800, 300:1100].flatten()\n",
    "\n",
    "    D_R_C = C[0:800, 0:800].flatten()\n",
    "    dRC = C[100:900, 0:800].flatten()\n",
    "    drC = C[100:900, 100:900].flatten()\n",
    "    DrC = C[0:800, 100:900].flatten()\n",
    "    \n",
    "    #random variant\n",
    "    a = 200+random.randint(0, 200)\n",
    "    b = 200+random.randint(0, 200)\n",
    "    U_L_C2 = C[a:a+800, b:b+800].flatten()\n",
    "    \n",
    "    a = 200+random.randint(0, 200)\n",
    "    b = random.randint(0, 200)\n",
    "    U_R_C2 = C[a:a+800, b:b+800].flatten()\n",
    "    \n",
    "    a = random.randint(0, 200)\n",
    "    b = 200+random.randint(0, 200)\n",
    "    D_L_C2 = C[a:a+800, b:b+800].flatten()\n",
    "    \n",
    "    a = random.randint(0, 200)\n",
    "    b = random.randint(0, 200)\n",
    "    D_R_C2 = C[a:a+800, b:b+800].flatten()\n",
    "    print(\"U_L_C2: \", U_L_C2.shape, \"U_R_C2: \", U_R_C2.shape, \"D_L_C2: \", D_L_C2.shape, \"D_R_C2: \", D_R_C2.shape)\n",
    "\n",
    "    # 2 shifts, 4x\n",
    "    ULc = upleft[500:1300, 500:1300].flatten()\n",
    "    uLc = left[350:1150, 500:1300].flatten()\n",
    "    ulc = c[350:1150, 350:1150].flatten()\n",
    "    Ulc = up[500:1300, 350:1150].flatten()\n",
    "\n",
    "    URc = upright[500:1300, 0:800].flatten()\n",
    "    uRc = right[350:1150, 0:800].flatten()\n",
    "    urc = c[350:1150, 50:850].flatten()\n",
    "    Urc = up[500:1300, 50:850].flatten()\n",
    "\n",
    "    DLc = downleft[0:800, 500:1300].flatten()\n",
    "    dLc = left[50:850, 500:1300].flatten()  # ***\n",
    "    dlc = c[50:850, 350:1150].flatten()\n",
    "    Dlc = down[0:800, 350:1150].flatten()\n",
    "\n",
    "    DRc = downright[0:800, 0:800].flatten()\n",
    "    plt.figure()\n",
    "    plt.imshow(downright[0:800, 0:800])\n",
    "    dRc = right[50:850, 0:800].flatten()\n",
    "    drc = c[50:850, 50:850].flatten()\n",
    "    Drc = down[0:800, 50:850].flatten()\n",
    "    \n",
    "    #random variant\n",
    "    a = 200+random.randint(0, 300)\n",
    "    b = 200+random.randint(0, 300)\n",
    "    ULc2 = upleft[a:a+800, b:b+800].flatten()\n",
    "    \n",
    "    a = 200+random.randint(0, 300)\n",
    "    b = random.randint(0, 300)\n",
    "    URc2 = upright[a:a+800, b:b+800].flatten()\n",
    "\n",
    "    a = random.randint(0, 300)\n",
    "    b = 200+random.randint(0, 300)\n",
    "    DLc2 = downleft[a:a+800, b:b+800].flatten()\n",
    "\n",
    "    a = random.randint(0, 300)\n",
    "    b = random.randint(0, 300)\n",
    "    DRc2 = downright[a:a+800, b:b+800].flatten()\n",
    "    print(\"ULc2: \", ULc2.shape, \"URc2: \", URc2.shape, \"DLc2: \", DLc2.shape, \"DRc2: \", DRc2.shape)\n",
    "    \n",
    "    C = C[200:1000, 200:1000].flatten()\n",
    "    c = c[200:1000, 200:1000].flatten()\n",
    "    \n",
    "    length = 77 #75? 99 if counting randoms\n",
    "    #DRc, dRc, Rc\n",
    "    if (i == 0):\n",
    "#         print(rot.shape, U.shape, D.shape, R.shape, L.shape, u.shape, d.shape, r.shape, l.shape, C.shape, c.shape, U_C.shape, uC.shape, Uc.shape, uc.shape, D_C.shape, dC.shape, Dc.shape, dc.shape, R_C.shape, rC.shape, Rc.shape, rc.shape, L_C.shape, lC.shape, Lc.shape, lc.shape, U_L.shape, uL.shape, ul.shape, Ul.shape, U_R.shape, uR.shape, ur.shape, Ur.shape,\n",
    "#              D_L.shape, dL.shape, dl.shape, D_R.shape, dR.shape, dr.shape, Dr.shape, U_L_C.shape, uLC.shape, ulC.shape, UlC.shape, U_R_C.shape, uRC.shape, urC.shape, UrC.shape, D_L_C.shape, dLC.shape, dlC.shape, DlC.shape, D_R_C.shape, dRC.shape, drC.shape, DrC.shape, ULc.shape, uLc.shape,\n",
    "#              ulc.shape, Ulc.shape, URc.shape, uRc.shape, urc.shape, Urc.shape, DLc.shape, dLc.shape, dlc.shape, Dlc.shape, DRc.shape, dRc.shape, drc.shape, Drc.shape, U2.shape)\n",
    "        A = np.vstack([[rot], [U], [D], [R], [L], [u], [d], [r], [l], [C], [c], [U_C], [uC], [Uc], [uc], [D_C], [dC], [Dc], [dc], [R_C], [rC], [Rc], [rc], [L_C], [lC], [Lc], [lc], [U_L], [uL], [ul], [Ul], [U_R], [uR], [ur], [Ur], [D_L], [dL], [dl], [Dl], [D_R], [dR], [dr],\n",
    "                       [Dr], [U_L_C], [uLC], [ulC], [UlC], [U_R_C], [uRC], [urC], [UrC], [D_L_C], [dLC], [dlC], [DlC], [D_R_C], [dRC], [drC], [DrC], [ULc], [uLc], [ulc], [Ulc], [URc], [uRc], [urc], [Urc], [DLc], [dLc], [dlc], [Dlc], [DRc], [dRc], [drc], [Drc],\n",
    "                       [U2], [D2], [R2], [L2], [U_C2], [Uc2], [D_C2], [Dc2], [R_C2], [Rc2], [L_C2], [Lc2], [U_L2], [U_R2], [D_L2], [D_R2], [U_L_C2], [U_R_C2], [D_L_C2], [D_R_C2], [ULc2], [URc2], [DLc2], [DRc2]])\n",
    "\n",
    "        # A = np.array([rot, U, D, R, L, u, d, r, l, C, c, U_C, uC, Uc, uc, D_C, dC, Dc, dc, R_C, rC, Rc, rc, L_C, lC, Lc, lc, U_L, uL, ul, Ul, U_R, uR, ur, Ur, D_L, dL, dl, Dl, D_R, dR, dr, Dr, U_L_C,\n",
    "        # uLC, ulC, UlC, U_R_C, uRC, urC, UrC, D_L_C, dLC, dlC, DlC, D_R_C, dRC,\n",
    "        # drC, DrC, ULc, uLc, ulc, Ulc, URc, uRc, urc, Urc, DLc, dLc, dlc, Dlc,\n",
    "        # DRc, dRc, drc, Drc])  # compressed, compressed\n",
    "    else:\n",
    "        A = np.vstack([A, [rot], [U], [D], [R], [L], [u], [d], [r], [l], [C], [c], [U_C], [uC], [Uc], [uc], [D_C], [dC], [Dc], [dc], [R_C], [rC], [Rc], [rc], [L_C], [lC], [Lc], [lc], [U_L], [uL], [ul], [Ul], [U_R], [uR], [ur], [Ur], [D_L], [dL], [dl], [Dl], [D_R], [dR], [dr], [Dr], [U_L_C], [uLC], [ulC], [UlC], [U_R_C], [uRC], [urC], [UrC], [D_L_C], [dLC], [dlC], [DlC], [D_R_C], [dRC], [drC], [DrC], [ULc], [uLc], [ulc], [Ulc], [URc], [uRc], [urc], [Urc], [DLc], [dLc], [dlc], [Dlc], [DRc], [dRc], [drc], [Drc],\n",
    "                       [U2], [D2], [R2], [L2], [U_C2], [Uc2], [D_C2], [Dc2], [R_C2], [Rc2], [L_C2], [Lc2], [U_L2], [U_R2], [D_L2], [D_R2], [U_L_C2], [U_R_C2], [D_L_C2], [D_R_C2], [ULc2], [URc2], [DLc2], [DRc2]])\n",
    "\n",
    "\n",
    "#all the random images\n",
    "#U2, D2, R2, L2, U_C2, Uc2, D_C2, Dc2, R_C2, Rc2, L_C2, Lc2, U_L2, U_R2, D_L2, D_R2, U_L_C2, U_R_C2, D_L_C2, D_R_C2, ULc2, URc2, DLc2, DRc2\n",
    "\n",
    "#preparing for ims_implant\n",
    "#see what options work better for resize, ways of doing it\n",
    "#sit.resize(img, (37, 37))\n",
    "# x = sit.resize(img_original[200:1000, 200:1000], (37, 37)).flatten()\n",
    "# up = sit.resize(img_original[280:1080, 200:1000], (37, 37)).flatten()\n",
    "# down = sit.resize(img_original[150:950, 200:1000], (37, 37)).flatten()\n",
    "# right = sit.resize(img_original[200:1000, 150:950], (37, 37)).flatten()\n",
    "# left = sit.resize(img_original[200:1000, 250:1050], (37, 37)).flatten()\n",
    "# print(len(x))\n",
    "# print(37*37)\n",
    "\n",
    "# compressed = sit.resize(compressor(img_original, 2, 200, 1000, 200, 1000)[\n",
    "#     200:1000, 200:1000], (37,37)).flatten()\n",
    "\n",
    "# A = np.array([x, x, up, up, down, down, right, right,\n",
    "#               left, left, compressed, compressed])\n",
    "\n",
    "# #next 3 rows of matrix\n",
    "# theta = 90\n",
    "# for i in range(1, int(360 / theta)):\n",
    "#     new_img = rotate(img_original, theta * i)\n",
    "#     rot = sit.resize(new_img[200:1000, 200:1000], (37,37)).flatten()\n",
    "    \n",
    "#     up = sit.resize(new_img[280:1080, 200:1000],(37,37)).flatten()\n",
    "#     down = sit.resize(new_img[150:950, 200:1000],(37,37)).flatten()\n",
    "#     right = sit.resize(new_img[200:1000, 150:950],(37,37)).flatten()\n",
    "#     left = sit.resize(new_img[200:1000, 250:1050],(37,37)).flatten()\n",
    "\n",
    "#     compressed = sit.resize(compressor(new_img, 2, 200, 1000, 200, 1000)[\n",
    "#         200:1000, 200:1000], (37,37)).flatten()\n",
    "\n",
    "#     A = np.vstack([A, [rot, rot, up, up, down, down, right,right, left, left, compressed, compressed]])\n",
    "\n",
    "#classifications\n",
    "# np.save(\"training\", A)\n",
    "print(A.shape)\n",
    "# B = np.load(\"training.npy\")\n",
    "# x = []\n",
    "# for i in range(0, int(360 / theta)):\n",
    "#     for j in range(0, 99):#75):  # range(0, 4):\n",
    "#         x.append(i * theta)\n",
    "        \n",
    "# clf = LinearDiscriminantAnalysis()\n",
    "# clf.fit(A, x)"
   ]
  },
  {
   "cell_type": "code",
   "execution_count": null,
   "metadata": {},
   "outputs": [
    {
     "name": "stdout",
     "output_type": "stream",
     "text": [
      "rotation #  0 (396, 1920000)\n",
      "rotation #  1 (990, 1920000)\n",
      "rotation #  2 (1584, 1920000)\n",
      "rotation #  3 (2178, 1920000)\n"
     ]
    }
   ],
   "source": [
    "for i in range(0, int(360 / theta)):\n",
    "    #594 images per rotation\n",
    "    print(\"rotation # \", i, A.shape)\n",
    "    for j in range(0, 6):\n",
    "        #6 gradations of noise: none, .1, .2, .3, .4, .5 (at chance)\n",
    "        new_img = rotate(img_original, theta * i)\n",
    "        rot = new_img[200:1000, 200:1000].flatten()\n",
    "\n",
    "    #     U = new_img[250:1050, 200:1000].flatten()\n",
    "    #     D = new_img[150:950, 200:1000].flatten()\n",
    "    #     R = new_img[200:1000, 150:950].flatten()\n",
    "    #     L = new_img[200:1000, 250:1050].flatten()\n",
    "\n",
    "    #     u = new_img[225:1025, 200:1000].flatten()\n",
    "    #     d = new_img[175:975, 200:1000].flatten()\n",
    "    #     r = new_img[200:1000, 175:975].flatten()\n",
    "    #     l = new_img[200:1000, 225:1025].flatten()\n",
    "\n",
    "        C = compressor(new_img, 200, 1000, 200, 1000)\n",
    "        c = compressor(C, 200, 1000, 200, 1000)\n",
    "\n",
    "        up = np.vstack([c, img_original[0:100, :]]) #img_original (11/11/19)\n",
    "        down = np.vstack([c[0:100, :], c])\n",
    "        right = np.hstack([img_original[:, 0:100], c])#[c[:, 0:100], c[:, 0:700]])\n",
    "        left = np.hstack([c, img_original[:, 0:100]])\n",
    "\n",
    "        upright = np.hstack([up[:, 0:100], up])\n",
    "        upleft = np.hstack([up, up[:, 0:100]])\n",
    "        downright = np.hstack([up[:, 0:100], down])\n",
    "        downleft = np.hstack([down, up[:, 0:100]])\n",
    "\n",
    "        a = 200 + random.randint(0, 50)\n",
    "        U2 = new_img[a:a+800, 200:1000].flatten()\n",
    "        a = 100 + random.randint(0, 50)\n",
    "        D2 = new_img[a:a+800, 200:1000].flatten()\n",
    "        a = 100 + random.randint(0, 50)\n",
    "        R2 = new_img[200:1000, a:a+800].flatten()\n",
    "        a = 200 + random.randint(0, 50)\n",
    "        L2 = new_img[200:1000, a:a+800].flatten()\n",
    "\n",
    "        a = 200 + random.randint(0, 50)\n",
    "        U22 = new_img[a:a+800, 200:1000].flatten()\n",
    "        a = 100 + random.randint(0, 50)\n",
    "        D22 = new_img[a:a+800, 200:1000].flatten()\n",
    "        a = 100 + random.randint(0, 50)\n",
    "        R22 = new_img[200:1000, a:a+800].flatten()\n",
    "        a = 200 + random.randint(0, 50)\n",
    "        L22 = new_img[200:1000, a:a+800].flatten()\n",
    "\n",
    "        a = 200 + random.randint(0, 50)\n",
    "        U23 = new_img[a:a+800, 200:1000].flatten()\n",
    "        a = 100 + random.randint(0, 50)\n",
    "        D23 = new_img[a:a+800, 200:1000].flatten()\n",
    "        a = 100 + random.randint(0, 50)\n",
    "        R23 = new_img[200:1000, a:a+800].flatten()\n",
    "        a = 200 + random.randint(0, 50)\n",
    "        L23 = new_img[200:1000, a:a+800].flatten()\n",
    "\n",
    "        a = 200 + random.randint(0, 50)\n",
    "        U24 = new_img[a:a+800, 200:1000].flatten()\n",
    "        a = 100 + random.randint(0, 50)\n",
    "        D24 = new_img[a:a+800, 200:1000].flatten()\n",
    "        a = 100 + random.randint(0, 50)\n",
    "        R24 = new_img[200:1000, a:a+800].flatten()\n",
    "        a = 200 + random.randint(0, 50)\n",
    "        L24 = new_img[200:1000, a:a+800].flatten()\n",
    "        \n",
    "        #extra 3\n",
    "        a = 200 + random.randint(12, 174)\n",
    "        E1 = C[a:a+800, 200:1000].flatten()\n",
    "        a = random.randint(4, 155)\n",
    "        E2 = C[a:a+800, 200:1000].flatten()\n",
    "        a = 200+random.randint(37, 180)\n",
    "        E3 = C[200:1000, a:800+a].flatten()\n",
    "        \n",
    "        #random variant\n",
    "        a = 200 + random.randint(0, 200)\n",
    "        U_C2 = C[a:a+800, 200:1000].flatten()\n",
    "        a = 200 + random.randint(0, 300)\n",
    "        Uc2 = up[a:a+800, 200:1000].flatten()\n",
    "\n",
    "        a = random.randint(0, 200)\n",
    "        D_C2 = C[a:a+800, 200:1000].flatten()\n",
    "        a = random.randint(0, 300)\n",
    "        Dc2 = down[a:a+800, 200:1000].flatten()\n",
    "\n",
    "        a = random.randint(0, 200)\n",
    "        R_C2 = C[200:1000, a:a+800].flatten()\n",
    "        a = 300 - random.randint(0, 300)\n",
    "        Rc2 = right[200:1000, a:a+800].flatten()\n",
    "\n",
    "        a = 200+random.randint(0, 200)\n",
    "        L_C2 = C[200:1000, a:800+a].flatten()\n",
    "        a = 200 + random.randint(0, 300)\n",
    "        Lc2 = left[200:1000, a:a+800].flatten()\n",
    "\n",
    "        a = 200 + random.randint(0, 200)\n",
    "        U_C22 = C[a:a+800, 200:1000].flatten()\n",
    "        a = 200 + random.randint(0, 300)\n",
    "        Uc22 = up[a:a+800, 200:1000].flatten()\n",
    "\n",
    "        a = random.randint(0, 200)\n",
    "        D_C22 = C[a:a+800, 200:1000].flatten()\n",
    "        a = random.randint(0, 300)\n",
    "        Dc22 = down[a:a+800, 200:1000].flatten()\n",
    "\n",
    "        a = random.randint(0, 200)\n",
    "        R_C22 = C[200:1000, a:a+800].flatten()\n",
    "        a = 300 - random.randint(0, 300)\n",
    "        Rc22 = right[200:1000, a:a+800].flatten()\n",
    "\n",
    "        a = 200+random.randint(0, 200)\n",
    "        L_C22 = C[200:1000, a:800+a].flatten()\n",
    "        a = 200 + random.randint(0, 300)\n",
    "        Lc22 = left[200:1000, a:a+800].flatten()\n",
    "\n",
    "        a = 200 + random.randint(0, 200)\n",
    "        U_C23 = C[a:a+800, 200:1000].flatten()\n",
    "        a = 200 + random.randint(0, 300)\n",
    "        Uc23 = up[a:a+800, 200:1000].flatten()\n",
    "\n",
    "        a = random.randint(0, 200)\n",
    "        D_C23 = C[a:a+800, 200:1000].flatten()\n",
    "        a = random.randint(0, 300)\n",
    "        Dc23 = down[a:a+800, 200:1000].flatten()\n",
    "\n",
    "        a = random.randint(0, 200)\n",
    "        R_C23 = C[200:1000, a:a+800].flatten()\n",
    "        a = 300 - random.randint(0, 300)\n",
    "        Rc23 = right[200:1000, a:a+800].flatten()\n",
    "\n",
    "        a = 200+random.randint(0, 200)\n",
    "        L_C23 = C[200:1000, a:800+a].flatten()\n",
    "        a = 200 + random.randint(0, 300)\n",
    "        Lc23 = left[200:1000, a:a+800].flatten()\n",
    "\n",
    "        a = 200 + random.randint(0, 200)\n",
    "        U_C24 = C[a:a+800, 200:1000].flatten()\n",
    "        a = 200 + random.randint(0, 300)\n",
    "        Uc24 = up[a:a+800, 200:1000].flatten()\n",
    "\n",
    "        a = random.randint(0, 200)\n",
    "        D_C24 = C[a:a+800, 200:1000].flatten()\n",
    "        a = random.randint(0, 300)\n",
    "        Dc24 = down[a:a+800, 200:1000].flatten()\n",
    "\n",
    "        a = random.randint(0, 200)\n",
    "        R_C24 = C[200:1000, a:a+800].flatten()\n",
    "        a = 300 - random.randint(0, 300)\n",
    "        Rc24 = right[200:1000, a:a+800].flatten()\n",
    "\n",
    "        a = 200+random.randint(0, 200)\n",
    "        L_C24 = C[200:1000, a:800+a].flatten()\n",
    "        a = 200 + random.randint(0, 300)\n",
    "        Lc24 = left[200:1000, a:a+800].flatten()\n",
    "\n",
    "        #random variant\n",
    "        a = 200+random.randint(0, 50)\n",
    "        b = 200+random.randint(0, 50)\n",
    "        U_L2 = new_img[a:a+800, b:b+800].flatten()\n",
    "\n",
    "        a = 200+random.randint(0, 50)\n",
    "        b = 200-random.randint(0, 50)\n",
    "        U_R2 = new_img[a:a+800, b:b+800].flatten()\n",
    "\n",
    "        a = 200-random.randint(0, 50)\n",
    "        b = 200+random.randint(0, 50)\n",
    "        D_L2 = new_img[a:a+800, b:b+800].flatten()\n",
    "\n",
    "        a = 200-random.randint(0, 50)\n",
    "        b = 200-random.randint(0, 50)\n",
    "        D_R2 = new_img[a:a+800, b:b+800].flatten()\n",
    "\n",
    "        a = 200+random.randint(0, 50)\n",
    "        b = 200+random.randint(0, 50)\n",
    "        U_L22 = new_img[a:a+800, b:b+800].flatten()\n",
    "\n",
    "        a = 200+random.randint(0, 50)\n",
    "        b = 200-random.randint(0, 50)\n",
    "        U_R22 = new_img[a:a+800, b:b+800].flatten()\n",
    "\n",
    "        a = 200-random.randint(0, 50)\n",
    "        b = 200+random.randint(0, 50)\n",
    "        D_L22 = new_img[a:a+800, b:b+800].flatten()\n",
    "\n",
    "        a = 200-random.randint(0, 50)\n",
    "        b = 200-random.randint(0, 50)\n",
    "        D_R22 = new_img[a:a+800, b:b+800].flatten()\n",
    "\n",
    "        a = 200+random.randint(0, 50)\n",
    "        b = 200+random.randint(0, 50)\n",
    "        U_L23 = new_img[a:a+800, b:b+800].flatten()\n",
    "\n",
    "        a = 200+random.randint(0, 50)\n",
    "        b = 200-random.randint(0, 50)\n",
    "        U_R23 = new_img[a:a+800, b:b+800].flatten()\n",
    "\n",
    "        a = 200-random.randint(0, 50)\n",
    "        b = 200+random.randint(0, 50)\n",
    "        D_L23 = new_img[a:a+800, b:b+800].flatten()\n",
    "\n",
    "        a = 200-random.randint(0, 50)\n",
    "        b = 200-random.randint(0, 50)\n",
    "        D_R23 = new_img[a:a+800, b:b+800].flatten()\n",
    "\n",
    "        a = 200+random.randint(0, 50)\n",
    "        b = 200+random.randint(0, 50)\n",
    "        U_L24 = new_img[a:a+800, b:b+800].flatten()\n",
    "\n",
    "        a = 200+random.randint(0, 50)\n",
    "        b = 200-random.randint(0, 50)\n",
    "        U_R24 = new_img[a:a+800, b:b+800].flatten()\n",
    "\n",
    "        a = 200-random.randint(0, 50)\n",
    "        b = 200+random.randint(0, 50)\n",
    "        D_L24 = new_img[a:a+800, b:b+800].flatten()\n",
    "\n",
    "        a = 200-random.randint(0, 50)\n",
    "        b = 200-random.randint(0, 50)\n",
    "        D_R24 = new_img[a:a+800, b:b+800].flatten()\n",
    "\n",
    "        #random variant\n",
    "        a = 200+random.randint(0, 200)\n",
    "        b = 200+random.randint(0, 200)\n",
    "        U_L_C2 = C[a:a+800, b:b+800].flatten()\n",
    "\n",
    "        a = 200+random.randint(0, 200)\n",
    "        b = random.randint(0, 200)\n",
    "        U_R_C2 = C[a:a+800, b:b+800].flatten()\n",
    "\n",
    "        a = random.randint(0, 200)\n",
    "        b = 200+random.randint(0, 200)\n",
    "        D_L_C2 = C[a:a+800, b:b+800].flatten()\n",
    "\n",
    "        a = random.randint(0, 200)\n",
    "        b = random.randint(0, 200)\n",
    "        D_R_C2 = C[a:a+800, b:b+800].flatten()\n",
    "\n",
    "        a = 200+random.randint(0, 200)\n",
    "        b = 200+random.randint(0, 200)\n",
    "        U_L_C22 = C[a:a+800, b:b+800].flatten()\n",
    "\n",
    "        a = 200+random.randint(0, 200)\n",
    "        b = random.randint(0, 200)\n",
    "        U_R_C22 = C[a:a+800, b:b+800].flatten()\n",
    "\n",
    "        a = random.randint(0, 200)\n",
    "        b = 200+random.randint(0, 200)\n",
    "        D_L_C22 = C[a:a+800, b:b+800].flatten()\n",
    "\n",
    "        a = random.randint(0, 200)\n",
    "        b = random.randint(0, 200)\n",
    "        D_R_C22 = C[a:a+800, b:b+800].flatten()\n",
    "\n",
    "        a = 200+random.randint(0, 200)\n",
    "        b = 200+random.randint(0, 200)\n",
    "        U_L_C23 = C[a:a+800, b:b+800].flatten()\n",
    "\n",
    "        a = 200+random.randint(0, 200)\n",
    "        b = random.randint(0, 200)\n",
    "        U_R_C23 = C[a:a+800, b:b+800].flatten()\n",
    "\n",
    "        a = random.randint(0, 200)\n",
    "        b = 200+random.randint(0, 200)\n",
    "        D_L_C23 = C[a:a+800, b:b+800].flatten()\n",
    "\n",
    "        a = random.randint(0, 200)\n",
    "        b = random.randint(0, 200)\n",
    "        D_R_C23 = C[a:a+800, b:b+800].flatten()\n",
    "\n",
    "        a = 200+random.randint(0, 200)\n",
    "        b = 200+random.randint(0, 200)\n",
    "        U_L_C24 = C[a:a+800, b:b+800].flatten()\n",
    "\n",
    "        a = 200+random.randint(0, 200)\n",
    "        b = random.randint(0, 200)\n",
    "        U_R_C24 = C[a:a+800, b:b+800].flatten()\n",
    "\n",
    "        a = random.randint(0, 200)\n",
    "        b = 200+random.randint(0, 200)\n",
    "        D_L_C24 = C[a:a+800, b:b+800].flatten()\n",
    "\n",
    "        a = random.randint(0, 200)\n",
    "        b = random.randint(0, 200)\n",
    "        D_R_C24 = C[a:a+800, b:b+800].flatten()\n",
    "\n",
    "    #     #random variant\n",
    "        a = 200+random.randint(0, 300)\n",
    "        b = 200+random.randint(0, 300)\n",
    "        ULc2 = upleft[a:a+800, b:b+800].flatten()\n",
    "\n",
    "        a = 200+random.randint(0, 300)\n",
    "        b = random.randint(0, 300)\n",
    "        URc2 = upright[a:a+800, b:b+800].flatten()\n",
    "\n",
    "        a = random.randint(0, 300)\n",
    "        b = 200+random.randint(0, 300)\n",
    "        DLc2 = downleft[a:a+800, b:b+800].flatten()\n",
    "\n",
    "        a = random.randint(0, 300)\n",
    "        b = random.randint(0, 300)\n",
    "        DRc2 = downright[a:a+800, b:b+800].flatten()\n",
    "\n",
    "        a = 200+random.randint(0, 300)\n",
    "        b = 200+random.randint(0, 300)\n",
    "        ULc22 = upleft[a:a+800, b:b+800].flatten()\n",
    "\n",
    "        a = 200+random.randint(0, 300)\n",
    "        b = random.randint(0, 300)\n",
    "        URc22 = upright[a:a+800, b:b+800].flatten()\n",
    "\n",
    "        a = random.randint(0, 300)\n",
    "        b = 200+random.randint(0, 300)\n",
    "        DLc22 = downleft[a:a+800, b:b+800].flatten()\n",
    "\n",
    "        a = random.randint(0, 300)\n",
    "        b = random.randint(0, 300)\n",
    "        DRc22 = downright[a:a+800, b:b+800].flatten()\n",
    "\n",
    "        a = 200+random.randint(0, 300)\n",
    "        b = 200+random.randint(0, 300)\n",
    "        ULc23 = upleft[a:a+800, b:b+800].flatten()\n",
    "\n",
    "        a = 200+random.randint(0, 300)\n",
    "        b = random.randint(0, 300)\n",
    "        URc23 = upright[a:a+800, b:b+800].flatten()\n",
    "\n",
    "        a = random.randint(0, 300)\n",
    "        b = 200+random.randint(0, 300)\n",
    "        DLc23 = downleft[a:a+800, b:b+800].flatten()\n",
    "\n",
    "        a = random.randint(0, 300)\n",
    "        b = random.randint(0, 300)\n",
    "        DRc23 = downright[a:a+800, b:b+800].flatten()\n",
    "\n",
    "        a = 200+random.randint(0, 300)\n",
    "        b = 200+random.randint(0, 300)\n",
    "        ULc24 = upleft[a:a+800, b:b+800].flatten()\n",
    "\n",
    "        a = 200+random.randint(0, 300)\n",
    "        b = random.randint(0, 300)\n",
    "        URc24 = upright[a:a+800, b:b+800].flatten()\n",
    "\n",
    "        a = random.randint(0, 300)\n",
    "        b = 200+random.randint(0, 300)\n",
    "        DLc24 = downleft[a:a+800, b:b+800].flatten()\n",
    "\n",
    "        a = random.randint(0, 300)\n",
    "        b = random.randint(0, 300)\n",
    "        DRc24 = downright[a:a+800, b:b+800].flatten()\n",
    "    \n",
    "    #[U2], [D2], [R2], [L2]\n",
    "    #[U_C2], [Uc2], [D_C2], [Dc2], [R_C2], [Rc2], [L_C2], [Lc2]\n",
    "        A = np.vstack([A, [U2], [D2], [R2], [L2], [U22], [D22], [R22], [L22], [U23], [D23], [R23], [L23], [U24], [D24], [R24], [L24],\n",
    "                    [U_C2], [Uc2], [D_C2], [Dc2], [R_C2], [Rc2], [L_C2], [Lc2], [U_C22], [Uc22], [D_C22], [Dc22], [R_C22], [Rc22], [L_C22], [Lc22], [U_C23], [Uc23], [D_C23], [Dc23], [R_C23], [Rc23], [L_C23], [Lc23], [U_C24], [Uc24], [D_C24], [Dc24], [R_C24], [Rc24], [L_C24], [Lc24],\n",
    "                    [U_L2], [U_R2], [D_L2], [D_R2], [U_L22], [U_R22], [D_L22], [D_R22], [U_L23], [U_R23], [D_L23], [D_R23], [U_L24], [U_R24], [D_L24], [D_R24],\n",
    "                    [U_L_C2], [U_R_C2], [D_L_C2], [D_R_C2], [U_L_C22], [U_R_C22], [D_L_C22], [D_R_C22], [U_L_C23], [U_R_C23], [D_L_C23], [D_R_C23], [U_L_C24], [U_R_C24], [D_L_C24], [D_R_C24],\n",
    "                    [ULc2], [URc2], [DLc2], [DRc2], [ULc22], [URc22], [DLc22], [DRc22], [ULc23], [URc23], [DLc23], [DRc23], [ULc24], [URc24], [DLc24], [DRc24], [E1], [E2], [E3]])\n",
    "                    \n",
    "                    #[U2], [D2], [R2], [L2], [U_C2], [Uc2], [D_C2], [Dc2], [R_C2], [Rc2], [L_C2], [Lc2], [U_L2], [U_R2],\n",
    "                    #[D_L2], [D_R2], [U_L_C2], [U_R_C2], [D_L_C2], [D_R_C2], [ULc2], [URc2], [DLc2], [DRc2]])                                                           \n",
    "\n",
    "        #U2, D2, R2, L2, U22, D22, R22, L22, U23, D23, R23, L23, U24, D24, R24, L24\n",
    "        #U_C2, Uc2, U_C2, Dc2, R_C2, Rc2, L_C2, Lc2, U_C22, Uc22, D_C22, Dc22, R_C22, Rc22, L_C22, Lc22, U_C23, Uc23, D_C23, Dc23, R_C23, Rc23, L_C23, Lc23, U_C24, Uc24, D_C24, Dc24, R_C24, Rc24, L_C24, Lc24\n",
    "        #U_L2, U_R2, D_L2, D_R2, U_L22, U_R22, D_L22, D_R22, U_L23, U_R23, D_L23, D_R23, U_L24, U_R24, D_L24, D_R24\n",
    "        #U_L_C2, U_R_C2, D_L_C2, D_R_C2, U_L_C22, U_R_C22, D_L_C22, D_R_C22, U_L_C23, U_R_C23, D_L_C23, D_R_C23, U_L_C24, U_R_C24, D_L_C24, D_R_C24\n",
    "        #ULc2, URc2, DLc2, DRc2, ULc22, URc22, DLc22, DRc22, ULc23, URc23, DLc23, DRc23, ULc24, URc24, DLc24, DRc24\n",
    "        #U2, D2, R2, L2, U_C2, Uc2, D_C2, Dc2, R_C2, Rc2, L_C2, Lc2, U_L2, U_R2   \n",
    "        #D_L2, D_R2, U_L_C2, U_R_C2, D_L_C2, D_R_C2, ULc2, URc2, DLc2, DRc2\n",
    "        \n",
    "        #U2, D2, R2, L2, U_C2, Uc2, D_C2, Dc2, R_C2, Rc2, L_C2, Lc2, U_L2, U_R2\n",
    "        #D_L2, D_R2, U_L_C2, U_R_C2, D_L_C2, D_R_C2, ULc2, URc2, DLc2, DRc2\n",
    "    #     plt.figure()\n",
    "    #     plt.subplot(121)\n",
    "    #     plt.imshow(U2)\n",
    "    #     plt.subplot(122)\n",
    "    #     plt.imshow(D2)\n",
    "\n",
    "    #     plt.figure()\n",
    "    #     plt.subplot(121)\n",
    "    #     plt.imshow(R2)\n",
    "    #     plt.subplot(122)\n",
    "    #     plt.imshow(L2)\n",
    "\n",
    "    #     plt.figure()\n",
    "    #     plt.subplot(121)\n",
    "    #     plt.imshow(U_C2)\n",
    "    #     plt.subplot(122)\n",
    "    #     plt.imshow(Uc2)\n",
    "\n",
    "    #     plt.figure()\n",
    "    #     plt.subplot(121)\n",
    "    #     plt.imshow(D_C2)\n",
    "    #     plt.subplot(122)\n",
    "    #     plt.imshow(Dc2)\n",
    "\n",
    "    #     plt.figure()\n",
    "    #     plt.subplot(121)\n",
    "    #     plt.imshow(R_C2)\n",
    "    #     plt.subplot(122)\n",
    "    #     plt.imshow(Rc2)\n",
    "\n",
    "    #     plt.figure()\n",
    "    #     plt.subplot(121)\n",
    "    #     plt.imshow(L_C2)\n",
    "    #     plt.subplot(122)\n",
    "    #     plt.imshow(Lc2)\n",
    "\n",
    "    #     plt.figure()\n",
    "    #     plt.subplot(121)\n",
    "    #     plt.imshow(U_L2)\n",
    "    #     plt.subplot(122)\n",
    "    #     plt.imshow(U_R2)\n",
    "\n",
    "    #     #D_L2, D_R2, U_L_C2, U_R_C2, D_L_C2, D_R_C2, ULc2, URc2, DLc2, DRc2\n",
    "    #     plt.figure()\n",
    "    #     plt.subplot(121)\n",
    "    #     plt.imshow(D_L2)\n",
    "    #     plt.subplot(122)\n",
    "    #     plt.imshow(D_R2)\n",
    "\n",
    "    #     plt.figure()\n",
    "    #     plt.subplot(121)\n",
    "    #     plt.imshow(U_L_C2)\n",
    "    #     plt.subplot(122)\n",
    "    #     plt.imshow(U_R_C2)\n",
    "\n",
    "    #     plt.figure()\n",
    "    #     plt.subplot(121)\n",
    "    #     plt.imshow(D_L_C2)\n",
    "    #     plt.subplot(122)\n",
    "    #     plt.imshow(D_R_C2)\n",
    "\n",
    "    \n",
    "#figure out how to index A so that you can apply the noise properly\n",
    "# for i in range(0, 6):\n",
    "#     A[0:95] = groupswitch(A[0:95], .1*i)\n",
    "    \n",
    "#A[0:95] = groupswitch(A[0:95], .1)\n",
    "\n",
    "#do printing before classifying\n",
    "#     A = np.vstack([A, [ULc2],[URc2],[DLc2],[DRc2],[U_L_C2],[U_R_C2],[D_L_C2],[D_R_C2],[U_L2],[U_R2],[D_L2]])\n",
    "    \n",
    "np.save(\"training\", A)\n",
    "print(A.shape)\n",
    "# # B = np.load(\"training.npy\")\n",
    "# x = []\n",
    "\n",
    "# #classifiers corresponding to cell above\n",
    "# for i in range(0, int(360 / theta)):\n",
    "#     for j in range(0, 11):#75):  # range(0, 4):\n",
    "#         x.append(i * theta)\n",
    "                      \n",
    "# #to current cell                    \n",
    "# for i in range(0, int(360 / theta)):\n",
    "#     for j in range(0, 11):#75):  # range(0, 4):\n",
    "#         x.append(i * theta)\n",
    "        \n",
    "# clf = LinearDiscriminantAnalysis()\n",
    "# clf.fit(A, x)\n"
   ]
  },
  {
   "cell_type": "code",
   "execution_count": 18,
   "metadata": {},
   "outputs": [
    {
     "name": "stdout",
     "output_type": "stream",
     "text": [
      "(3276, 1920000)\n"
     ]
    }
   ],
   "source": [
    "print(A.shape)\n",
    "B = np.copy(A)\n",
    "# B = np.load(\"training.npy\")\n",
    "# print(B.shape)"
   ]
  },
  {
   "cell_type": "code",
   "execution_count": 26,
   "metadata": {},
   "outputs": [
    {
     "name": "stderr",
     "output_type": "stream",
     "text": [
      "Clipping input data to the valid range for imshow with RGB data ([0..1] for floats or [0..255] for integers).\n"
     ]
    },
    {
     "data": {
      "text/plain": [
       "<matplotlib.image.AxesImage at 0x7f1e03275978>"
      ]
     },
     "execution_count": 26,
     "metadata": {},
     "output_type": "execute_result"
    },
    {
     "data": {
      "image/png": "[encoded data removed]",
      "text/plain": [
       "<Figure size 432x288 with 1 Axes>"
      ]
     },
     "metadata": {
      "needs_background": "light"
     },
     "output_type": "display_data"
    }
   ],
   "source": [
    "#so 6 x 99 randoms for each of rotations. \n",
    "#theta = 0\n",
    "#[396, 494] 0 noise\n",
    "#[495, 593] .1\n",
    "#[594, 692] .2\n",
    "#[693, 791] .3\n",
    "#[792, 890] .4\n",
    "#[891, 989] .5\n",
    "#theta = 90\n",
    "#[990, 1088]\n",
    "#[1089, 1187]\n",
    "#[...1584]\n",
    "#theta = 180\n",
    "#[1585,...2178]\n",
    "#theta = 270\n",
    "#[2179,...2771]\n",
    "\n",
    "\n",
    "#396 + 99x\n",
    "#x = [(0,1),...,(5,6)]\n",
    "#\n",
    "imag = np.copy(B[395])\n",
    "imag = imag.reshape(800,800,3)\n",
    "plt.figure()\n",
    "plt.imshow(imag)"
   ]
  },
  {
   "cell_type": "code",
   "execution_count": null,
   "metadata": {},
   "outputs": [],
   "source": [
    "#learning how to use groupswitch on slices of array\n",
    "z2 = np.load(\"training.npy\")\n",
    "test = groupswitch(z2[0:4].copy(), .4)\n",
    "#test = test.reshape(4,800,800,3)\n",
    "for i in range(0,3):\n",
    "    plt.figure()\n",
    "    plt.subplot(121)\n",
    "    plt.imshow(z2[i:i+1].reshape(800,800,3))\n",
    "    plt.subplot(122)\n",
    "    plt.imshow(test[i:i+1].reshape(800,800,3))\n",
    "#     plt.figure()\n",
    "#     plt.imshow(z[i:i+1].reshape(800,800,3))\n",
    "\n",
    "#test = groupswitch(z[0:4, :], .9) # make a fuck ton of these and add it to the leviathan\n",
    "\n",
    "#test = test.reshape(44,800,800,3)"
   ]
  },
  {
   "cell_type": "code",
   "execution_count": 8,
   "metadata": {},
   "outputs": [
    {
     "name": "stdout",
     "output_type": "stream",
     "text": [
      "[[  1.   1.   1. ...   1.   1.   1.]\n",
      " [  1.   1.   1. ...   1.   1.   1.]\n",
      " [255. 255. 255. ... 255. 255. 255.]\n",
      " ...\n",
      " [  1.   1.   1. ...   1.   1.   1.]\n",
      " [  1.   1.   1. ...   1.   1.   1.]\n",
      " [  1.   1.   1. ...   1.   1.   1.]]\n",
      "[0, 180, 270, 0, 90, 180, 0, 270, 90, 0, 270, 180, 270, 0, 180, 90, 270, 90, 0, 90, 180, 270]\n",
      "[[1. 1. 1. ... 1. 1. 1.]\n",
      " [1. 1. 1. ... 1. 1. 1.]\n",
      " [1. 1. 1. ... 1. 1. 1.]\n",
      " ...\n",
      " [1. 1. 1. ... 1. 1. 1.]\n",
      " [1. 1. 1. ... 1. 1. 1.]\n",
      " [1. 1. 1. ... 1. 1. 1.]]\n",
      "[270, 180, 180, 270, 270, 270, 0, 90, 0, 0, 0, 180, 180, 90, 90, 90, 270, 90, 0, 90, 180, 180]\n"
     ]
    }
   ],
   "source": [
    "from sklearn.model_selection import train_test_split\n",
    "A_train, A_test, x_train, x_test = train_test_split(A, x, test_size=0.5, random_state=42)\n",
    "print(A_train)\n",
    "print(x_train)\n",
    "print(A_test)\n",
    "print(x_test)\n",
    "\n",
    "#test clf on A_train"
   ]
  },
  {
   "cell_type": "code",
   "execution_count": null,
   "metadata": {},
   "outputs": [],
   "source": [
    "fineness = 1 / 20\n",
    "accuracy = []\n",
    "sizes = []\n",
    "for i in range(20):\n",
    "    A_train, A_test, x_train, x_test = train_test_split(A, x, test_size=fineness * i, random_state=42)\n",
    "    sizes.append(A_test.shape[0])#(A.shape[0])*(fineness * i)) #just do size of A_test..\n",
    "    #print(sizes[i])\n",
    "\n",
    "    results = []\n",
    "    for j in range(A_test.shape[0]):\n",
    "        if (clf.predict([A_test[j]]) == x_test[j]):\n",
    "            results.append(1)\n",
    "        else:\n",
    "            results.append(0)\n",
    "            \n",
    "#     print(sum(results))\n",
    "#     print(abs(sizes[i] - sum(results)))\n",
    "    accuracy.append(sum(results))\n",
    "    print(sizes[i], accuracy[i])\n",
    "\n",
    "error_sum = 0 #at i = 0\n",
    "errors = []\n",
    "errors.append(0)\n",
    "for i in range(1, 20):\n",
    "    errors.append(abs(sizes[i] - accuracy[i]) / sizes[i])\n",
    "    error_sum += (abs(sizes[i] - accuracy[i]) / sizes[i])\n",
    "\n",
    "#not exactly mean-absolute because i'm accounting for the size in each term of the error sum\n",
    "mean_absolute_error = error_sum / 20\n",
    "\n",
    "print(mean_absolute_error)\n",
    "\n",
    "plt.figure()\n",
    "plt.plot(sizes, errors, label='Error as a Function of Test Size')\n",
    "plt.xlabel('Test Size',fontsize=18)\n",
    "plt.ylabel('Error',fontsize=18)\n",
    "plt.show()\n",
    "\n",
    "# x = sizes\n",
    "# y = errors\n",
    "# colors = (0,0,0)\n",
    "# area = np.pi*3\n",
    "\n",
    "# # Plot\n",
    "# plt.scatter(x, y, s=area, c=colors, alpha=0.5)\n",
    "# plt.xlabel('Test Size',fontsize=18)\n",
    "# plt.ylabel('Error',fontsize=18)\n",
    "# plt.show()\n",
    "---\n",
    "#testing LDA classifier\n",
    "z = img_original[200: 1000, 200: 1000].flatten()\n",
    "print(clf.predict([z]))\n",
    "z = rotate(img_original, 90)\n",
    "z = z[200: 1000, 200: 1000].flatten()\n",
    "print(clf.predict([z]))\n",
    "z = rotate(img_original, 180)\n",
    "z = z[200: 1000, 200: 1000].flatten()\n",
    "print(clf.predict([z]))\n",
    "z = rotate(img_original, 270)\n",
    "z = z[200: 1000, 200: 1000].flatten()\n",
    "print(clf.predict([z]))"
   ]
  },
  {
   "cell_type": "code",
   "execution_count": null,
   "metadata": {},
   "outputs": [],
   "source": [
    "#ims_img_stim = sit.resize(img, (37, 37))\n",
    "print(A[47])\n",
    "for i in range(0, 48):\n",
    "    ims_stim = A[i]\n",
    "    print(i, len(ims_stim))\n",
    "    IMS_implant =p2p.implants.AlphaIMS(x=0, y=0, z=100, rot=0, stim=ims_stim)\n",
    "    percept = model.predict_percept(IMS_implant)\n",
    "    plt.figure()\n",
    "    plt.imshow(percept)\n",
    "    \n",
    "# for i in range(0, 4):\n",
    "#     for j in range(0, 12):\n",
    "#         IMS_implant =p2p.implants.AlphaIMS(x=0, y=0, z=100, rot=0, stim=img_original.flatten())\n",
    "#         percept = model.predict_percept(IMS_implant)\n",
    "#         plt.figure()\n",
    "#         plt.imshow(percept)\n",
    "#         A[i][j] = percept"
   ]
  }
 ],
 "metadata": {
  "kernelspec": {
   "display_name": "Python 3",
   "language": "python",
   "name": "python3"
  },
  "language_info": {
   "codemirror_mode": {
    "name": "ipython",
    "version": 3
   },
   "file_extension": ".py",
   "mimetype": "text/x-python",
   "name": "python",
   "nbconvert_exporter": "python",
   "pygments_lexer": "ipython3",
   "version": "3.7.3"
  }
 },
 "nbformat": 4,
 "nbformat_minor": 2
}
